{
  "nbformat": 4,
  "nbformat_minor": 0,
  "metadata": {
    "colab": {
      "provenance": [],
      "authorship_tag": "ABX9TyPU5WEruVLL7qYyVVkzANqD",
      "include_colab_link": true
    },
    "kernelspec": {
      "name": "python3",
      "display_name": "Python 3"
    },
    "language_info": {
      "name": "python"
    }
  },
  "cells": [
    {
      "cell_type": "markdown",
      "metadata": {
        "id": "view-in-github",
        "colab_type": "text"
      },
      "source": [
        "<a href=\"https://colab.research.google.com/github/tararauzumaki/uits-simulation-and-modelling-lab/blob/main/SIM_Assignment2.ipynb\" target=\"_parent\"><img src=\"https://colab.research.google.com/assets/colab-badge.svg\" alt=\"Open In Colab\"/></a>"
      ]
    },
    {
      "cell_type": "code",
      "execution_count": 5,
      "metadata": {
        "id": "AabZfz2L50nz"
      },
      "outputs": [],
      "source": [
        "import numpy as np"
      ]
    },
    {
      "cell_type": "code",
      "source": [
        "# With fixwd seed\n",
        "np.random.seed(10)\n",
        "fixed_seed_matrix = np.random.randint(1, 51, (3, 3))\n",
        "print(\"Matrix with fixed seed:\")\n",
        "print(fixed_seed_matrix)"
      ],
      "metadata": {
        "colab": {
          "base_uri": "https://localhost:8080/"
        },
        "id": "GTLxN9Ni65h9",
        "outputId": "4aa6cffd-a9b9-4def-ffc4-8140eb59bb56"
      },
      "execution_count": 8,
      "outputs": [
        {
          "output_type": "stream",
          "name": "stdout",
          "text": [
            "Matrix with fixed seed:\n",
            "[[10 37 16]\n",
            " [ 1 50 29]\n",
            " [26 30 49]]\n"
          ]
        }
      ]
    },
    {
      "cell_type": "code",
      "source": [
        "# Without fixed seed\n",
        "random_matrix = np.random.randint(1, 51, (3, 3))\n",
        "print(\"Matrix without fixed seed:\")\n",
        "print(random_matrix)"
      ],
      "metadata": {
        "colab": {
          "base_uri": "https://localhost:8080/"
        },
        "id": "AfjC0X167aOw",
        "outputId": "aa9551b4-653c-49f9-84c1-e799f51540fd"
      },
      "execution_count": 11,
      "outputs": [
        {
          "output_type": "stream",
          "name": "stdout",
          "text": [
            "Matrix without fixed seed:\n",
            "[[50 14  6]\n",
            " [14 26 14]\n",
            " [29 23 31]]\n"
          ]
        }
      ]
    },
    {
      "cell_type": "markdown",
      "source": [
        "# **Explanation:**\n",
        "**With fixed seed:**\n",
        "Using np.random.seed(10) ensures the random number generator produces the same sequence of random numbers every time the code is run. This guarantees that fixed_seed_matrix will always have the same values, providing reproducibility.\n",
        "\n",
        "**Without fixed seed:**\n",
        "Without setting a seed, the random number generator produces a different sequence of numbers on each execution. Thus, random_matrix will vary every time you run the code, reflecting true randomness."
      ],
      "metadata": {
        "id": "Ae6sZGOA5-vt"
      }
    }
  ]
}