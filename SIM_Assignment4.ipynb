{
  "nbformat": 4,
  "nbformat_minor": 0,
  "metadata": {
    "colab": {
      "provenance": [],
      "authorship_tag": "ABX9TyM9fb4sGmPn37l2WmIQT1hw",
      "include_colab_link": true
    },
    "kernelspec": {
      "name": "python3",
      "display_name": "Python 3"
    },
    "language_info": {
      "name": "python"
    }
  },
  "cells": [
    {
      "cell_type": "markdown",
      "metadata": {
        "id": "view-in-github",
        "colab_type": "text"
      },
      "source": [
        "<a href=\"https://colab.research.google.com/github/tararauzumaki/uits-simulation-and-modelling-lab/blob/main/SIM_Assignment4.ipynb\" target=\"_parent\"><img src=\"https://colab.research.google.com/assets/colab-badge.svg\" alt=\"Open In Colab\"/></a>"
      ]
    },
    {
      "cell_type": "markdown",
      "source": [
        "**ID: 2215151048**"
      ],
      "metadata": {
        "id": "Yta7t4QOpKn0"
      }
    },
    {
      "cell_type": "code",
      "execution_count": 1,
      "metadata": {
        "id": "xfr9HjBYn0op"
      },
      "outputs": [],
      "source": [
        "import numpy as np\n",
        "import scipy.stats as stats\n",
        "import matplotlib.pyplot as plt"
      ]
    },
    {
      "cell_type": "code",
      "source": [
        "# Two sets of random data from normal distributions\n",
        "data1 = np.array([23.1, 24.3, 22.8, 23.7, 24.0, 23.5])\n",
        "data2 = np.array([21.9, 22.5, 22.0, 21.8, 22.2, 21.7])\n",
        "\n",
        "# Perform the two-sample t-test\n",
        "t_statistic, p_value = stats.ttest_ind(data1, data2, equal_var=False)\n",
        "\n",
        "# Print the results\n",
        "print(f\"t-statistic: {t_statistic}\")\n",
        "print(f\"p-value: {p_value}\")\n",
        "\n",
        "# Interpret the results\n",
        "alpha = 0.05\n",
        "if p_value < alpha:\n",
        "    print(\"Reject the null hypothesis. The means of the two samples are significantly different.\")\n",
        "else:\n",
        "    print(\"Fail to reject the null hypothesis. The means of the two samples are not significantly different.\")"
      ],
      "metadata": {
        "colab": {
          "base_uri": "https://localhost:8080/"
        },
        "id": "Ku-UxrMCoezs",
        "outputId": "a090a262-39fc-414e-93e5-e1f28bef5a67"
      },
      "execution_count": 5,
      "outputs": [
        {
          "output_type": "stream",
          "name": "stdout",
          "text": [
            "t-statistic: 6.030829123420408\n",
            "p-value: 0.000389807576086139\n",
            "Reject the null hypothesis. The means of the two samples are significantly different.\n"
          ]
        }
      ]
    }
  ]
}