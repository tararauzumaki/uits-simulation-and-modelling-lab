{
  "nbformat": 4,
  "nbformat_minor": 0,
  "metadata": {
    "colab": {
      "provenance": [],
      "authorship_tag": "ABX9TyO1rcrfB4isEdJ28gFLgtIe",
      "include_colab_link": true
    },
    "kernelspec": {
      "name": "python3",
      "display_name": "Python 3"
    },
    "language_info": {
      "name": "python"
    }
  },
  "cells": [
    {
      "cell_type": "markdown",
      "metadata": {
        "id": "view-in-github",
        "colab_type": "text"
      },
      "source": [
        "<a href=\"https://colab.research.google.com/github/tararauzumaki/uits-simulation-and-modelling-lab/blob/main/SIM_Assignment2.ipynb\" target=\"_parent\"><img src=\"https://colab.research.google.com/assets/colab-badge.svg\" alt=\"Open In Colab\"/></a>"
      ]
    },
    {
      "cell_type": "code",
      "execution_count": 5,
      "metadata": {
        "id": "AabZfz2L50nz"
      },
      "outputs": [],
      "source": [
        "import numpy as np"
      ]
    },
    {
      "cell_type": "code",
      "source": [
        "np.random.seed(10)\n",
        "fixed_seed_matrix = np.random.randint(1, 51, (3, 3))\n",
        "print(\"Matrix with fixed seed:\")\n",
        "print(fixed_seed_matrix)\n",
        "\n",
        "# Without fixed seed\n",
        "random_matrix = np.random.randint(1, 51, (3, 3))\n",
        "print(\"\\nMatrix without fixed seed:\")\n",
        "print(random_matrix)"
      ],
      "metadata": {
        "colab": {
          "base_uri": "https://localhost:8080/"
        },
        "id": "GTLxN9Ni65h9",
        "outputId": "e7dd602b-1b2c-42a4-980d-861182838956"
      },
      "execution_count": 6,
      "outputs": [
        {
          "output_type": "stream",
          "name": "stdout",
          "text": [
            "Matrix with fixed seed:\n",
            "[[10 37 16]\n",
            " [ 1 50 29]\n",
            " [26 30 49]]\n",
            "\n",
            "Matrix without fixed seed:\n",
            "[[30 50  9]\n",
            " [10  1 43]\n",
            " [41 37 17]]\n"
          ]
        }
      ]
    },
    {
      "cell_type": "markdown",
      "source": [
        "# **Explanation:**\n",
        "**With fixed seed:**\n",
        "Using np.random.seed(10) ensures the random number generator produces the same sequence of random numbers every time the code is run. This guarantees that fixed_seed_matrix will always have the same values, providing reproducibility.\n",
        "\n",
        "**Without fixed seed:**\n",
        "Without setting a seed, the random number generator produces a different sequence of numbers on each execution. Thus, random_matrix will vary every time you run the code, reflecting true randomness."
      ],
      "metadata": {
        "id": "Ae6sZGOA5-vt"
      }
    }
  ]
}